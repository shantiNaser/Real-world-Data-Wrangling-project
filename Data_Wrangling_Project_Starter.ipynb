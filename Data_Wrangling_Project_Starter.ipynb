{
 "cells": [
  {
   "cell_type": "markdown",
   "metadata": {
    "id": "GNIwe5N7s0e_"
   },
   "source": [
    "# Palestine Used Car Price Data"
   ]
  },
  {
   "cell_type": "markdown",
   "metadata": {},
   "source": [
    "# Introduction and Dataset Description\n",
    "\n",
    "Welcome to the Palestine Used Car Price Data Analyst Project! Our objective is to analyze changes in used car prices in Palestine from the end of 2020 to the beginning of 2021, using various features relevant to our country.\n",
    "\n",
    "Our Project contains Two Data set\n",
    "\n",
    "> **Data 1 - Used Car Data and Prices in Palestine**\n",
    " > - Source: I manually updated this data that I collected during my graduation project from a different source. There are many features and rows available, but I have chosen to focus specifically on certain features and rows to align with the scope of this project.\n",
    "\n",
    "\n",
    "> **Data 2 - USD to ILS Exchange Rates on Advertisement Dates.**\n",
    " > - Source: Scraped from Wise.com using BeautifulSoup (bs4).\n",
    "\n",
    "###  <span style=\"color:purple\"> Before delving into the data, I would like to pose some questions that I am eager to explore.</span>\n",
    "\n",
    "### <span style=\"color:purple\"> Step 1: Ask questions for Analysis </span>\n",
    ">  **1. What is the factors are important for us to know in order know what affect the car price?**\n",
    "\n",
    ">  **2. Is USD exchange vs NIS has an impact on the car price? - <span style=\"color:green\"> secand dateset will help answer this question </span>**"
   ]
  },
  {
   "cell_type": "code",
   "execution_count": 1,
   "metadata": {},
   "outputs": [],
   "source": [
    "import pandas as pd\n",
    "import numpy as np\n",
    "from bs4 import BeautifulSoup\n",
    "import requests\n",
    "import matplotlib.pyplot as plt"
   ]
  },
  {
   "cell_type": "code",
   "execution_count": 2,
   "metadata": {},
   "outputs": [],
   "source": [
    "# if you faced an issue please Run this command  ---> pip install --upgrade matplotlib\n",
    "# Then restart the Kernal in order to use updated packages."
   ]
  },
  {
   "cell_type": "markdown",
   "metadata": {
    "id": "lDYDkH-Zs7Nn"
   },
   "source": [
    "<a id='wrangling'></a>\n",
    "### <span style=\"color:purple\"> Step 2: Data Wrangling </span>\n",
    "\n",
    "> **This step will include the process of gather, assess, and clean on the data**\n",
    "\n",
    "> **2.1.1 First Data -> Used Car Data and Prices in Palestine.**\n",
    "\n",
    "> **List of data gathering methods:**\n",
    "> - **<span style=\"color:green\">Download data manually</span>**\n",
    "> - **Programmatically downloading files**\n",
    "> - **Gather data by accessing APIs**\n",
    "> - **Gather and extract data from HTML files using BeautifulSoup**\n",
    "> - **Extract data from a SQL database**\n",
    "\n",
    "> This data contains 542 cars with 13 features for each car I preferred to keep it in Arabic language in order to have more fun while discovering. Let's take a deep dive into each column and provide a detailed explanation of the data based on the descriptions given for each field:\n",
    " > * **car_name**:- the complete make and model of the car.\n",
    " > * **year**:- The production year of the car.\n",
    " > * **price**:- The price of the car\n",
    " > * **color**:- The color of the car\n",
    " > * **origin**:- The classification of the car private carسيارة خصوصية , Taxi عمومي, driving school car تعليم قيادة\n",
    " > * **car license**:- Whether the car holds a Palestinian license or a yellow (from the occupied area).\n",
    " > * **gearbox**:- The type of gearbox the car has (e.g., Automatic غيار أوتوماتيك, Manual غيار عادي).\n",
    " > * **engine size**:- The size of the engine\n",
    " > * **ad publish date**:-  The date when the advertisement was published\n",
    " > * **features**:- List of features that the car may have\n",
    " > * **passenger**:- The number of passengers the car can accommodate\n",
    " > * **Payment method**:- The method by which the seller accepts payment"
   ]
  },
  {
   "cell_type": "code",
   "execution_count": 3,
   "metadata": {},
   "outputs": [
    {
     "data": {
      "text/html": [
       "<div>\n",
       "<style scoped>\n",
       "    .dataframe tbody tr th:only-of-type {\n",
       "        vertical-align: middle;\n",
       "    }\n",
       "\n",
       "    .dataframe tbody tr th {\n",
       "        vertical-align: top;\n",
       "    }\n",
       "\n",
       "    .dataframe thead th {\n",
       "        text-align: right;\n",
       "    }\n",
       "</style>\n",
       "<table border=\"1\" class=\"dataframe\">\n",
       "  <thead>\n",
       "    <tr style=\"text-align: right;\">\n",
       "      <th></th>\n",
       "      <th>car_name</th>\n",
       "      <th>year</th>\n",
       "      <th>price</th>\n",
       "      <th>color</th>\n",
       "      <th>fuel type</th>\n",
       "      <th>origin</th>\n",
       "      <th>car license</th>\n",
       "      <th>gearbox</th>\n",
       "      <th>engine size</th>\n",
       "      <th>ad publish date</th>\n",
       "      <th>features</th>\n",
       "      <th>passenger</th>\n",
       "      <th>Payment method</th>\n",
       "    </tr>\n",
       "  </thead>\n",
       "  <tbody>\n",
       "    <tr>\n",
       "      <th>0</th>\n",
       "      <td>هونداي اكسنت</td>\n",
       "      <td>2010</td>\n",
       "      <td>30000</td>\n",
       "      <td>فيراني</td>\n",
       "      <td>بنزين</td>\n",
       "      <td>تأجير</td>\n",
       "      <td>فلسطينية</td>\n",
       "      <td>نصف اوتوماتيك</td>\n",
       "      <td>1400</td>\n",
       "      <td>26/01/2021</td>\n",
       "      <td>مُكيّف,إغلاق مركزي,جهاز إنذار,مسجل CD,وسادة حم...</td>\n",
       "      <td>4+1</td>\n",
       "      <td>إمكانية التقسيط</td>\n",
       "    </tr>\n",
       "    <tr>\n",
       "      <th>1</th>\n",
       "      <td>اودي A4</td>\n",
       "      <td>2000</td>\n",
       "      <td>28000</td>\n",
       "      <td>كحلي</td>\n",
       "      <td>بنزين</td>\n",
       "      <td>خصوصي</td>\n",
       "      <td>فلسطينية</td>\n",
       "      <td>اوتوماتيك</td>\n",
       "      <td>1800</td>\n",
       "      <td>10/12/2020</td>\n",
       "      <td>مُكيّف,إغلاق مركزي,مسجل CD,فتحة سقف,جنطات مغني...</td>\n",
       "      <td>4+1</td>\n",
       "      <td>نقدا فقط</td>\n",
       "    </tr>\n",
       "    <tr>\n",
       "      <th>2</th>\n",
       "      <td>مرسيدس 300</td>\n",
       "      <td>1986</td>\n",
       "      <td>13000</td>\n",
       "      <td>أبيض</td>\n",
       "      <td>ديزل</td>\n",
       "      <td>عمومي</td>\n",
       "      <td>فلسطينية</td>\n",
       "      <td>عادي</td>\n",
       "      <td>3000</td>\n",
       "      <td>29/11/2020</td>\n",
       "      <td>فرش جلد,وسادة حماية هوائية</td>\n",
       "      <td>7+1</td>\n",
       "      <td>نقدا فقط</td>\n",
       "    </tr>\n",
       "    <tr>\n",
       "      <th>3</th>\n",
       "      <td>فولكسفاجن بولو</td>\n",
       "      <td>2008</td>\n",
       "      <td>38000</td>\n",
       "      <td>سكني</td>\n",
       "      <td>بنزين</td>\n",
       "      <td>خصوصي</td>\n",
       "      <td>فلسطينية</td>\n",
       "      <td>عادي</td>\n",
       "      <td>1400</td>\n",
       "      <td>09/02/2021</td>\n",
       "      <td>مُكيّف,جنطات مغنيسيوم</td>\n",
       "      <td>4+1</td>\n",
       "      <td>إمكانية التقسيط</td>\n",
       "    </tr>\n",
       "    <tr>\n",
       "      <th>4</th>\n",
       "      <td>هوندا سيفيك</td>\n",
       "      <td>2007</td>\n",
       "      <td>35000</td>\n",
       "      <td>أسود</td>\n",
       "      <td>بنزين</td>\n",
       "      <td>خصوصي</td>\n",
       "      <td>فلسطينية</td>\n",
       "      <td>اوتوماتيك</td>\n",
       "      <td>1800</td>\n",
       "      <td>28/12/2020</td>\n",
       "      <td>مُكيّف,إغلاق مركزي,جهاز إنذار,مسجل CD,جنطات مغ...</td>\n",
       "      <td>4+1</td>\n",
       "      <td>نقدا فقط</td>\n",
       "    </tr>\n",
       "  </tbody>\n",
       "</table>\n",
       "</div>"
      ],
      "text/plain": [
       "         car_name  year  price    color fuel type  origin car license  \\\n",
       "0    هونداي اكسنت  2010  30000  فيراني     بنزين   تأجير    فلسطينية    \n",
       "1         اودي A4  2000  28000    كحلي     بنزين   خصوصي    فلسطينية    \n",
       "2      مرسيدس 300  1986  13000    أبيض      ديزل   عمومي    فلسطينية    \n",
       "3  فولكسفاجن بولو  2008  38000    سكني     بنزين   خصوصي    فلسطينية    \n",
       "4     هوندا سيفيك  2007  35000    أسود     بنزين   خصوصي    فلسطينية    \n",
       "\n",
       "          gearbox  engine size ad publish date  \\\n",
       "0  نصف اوتوماتيك          1400      26/01/2021   \n",
       "1      اوتوماتيك          1800      10/12/2020   \n",
       "2           عادي          3000      29/11/2020   \n",
       "3           عادي          1400      09/02/2021   \n",
       "4      اوتوماتيك          1800      28/12/2020   \n",
       "\n",
       "                                            features passenger  \\\n",
       "0  مُكيّف,إغلاق مركزي,جهاز إنذار,مسجل CD,وسادة حم...      4+1    \n",
       "1  مُكيّف,إغلاق مركزي,مسجل CD,فتحة سقف,جنطات مغني...      4+1    \n",
       "2                         فرش جلد,وسادة حماية هوائية      7+1    \n",
       "3                              مُكيّف,جنطات مغنيسيوم      4+1    \n",
       "4  مُكيّف,إغلاق مركزي,جهاز إنذار,مسجل CD,جنطات مغ...      4+1    \n",
       "\n",
       "     Payment method  \n",
       "0  إمكانية التقسيط   \n",
       "1         نقدا فقط   \n",
       "2         نقدا فقط   \n",
       "3  إمكانية التقسيط   \n",
       "4         نقدا فقط   "
      ]
     },
     "execution_count": 3,
     "metadata": {},
     "output_type": "execute_result"
    }
   ],
   "source": [
    "# read the Data and List the first 5 elemants\n",
    "df = pd.read_csv('Data.csv')\n",
    "df.head()"
   ]
  },
  {
   "cell_type": "code",
   "execution_count": 4,
   "metadata": {},
   "outputs": [
    {
     "name": "stdout",
     "output_type": "stream",
     "text": [
      "The original Size for DataFrame before do any manpuliting is ->  (540, 13)\n"
     ]
    }
   ],
   "source": [
    "print('The original Size for DataFrame before do any manpuliting is -> ', df.shape)"
   ]
  },
  {
   "cell_type": "code",
   "execution_count": 5,
   "metadata": {},
   "outputs": [
    {
     "name": "stdout",
     "output_type": "stream",
     "text": [
      "<class 'pandas.core.frame.DataFrame'>\n",
      "RangeIndex: 540 entries, 0 to 539\n",
      "Data columns (total 13 columns):\n",
      " #   Column           Non-Null Count  Dtype \n",
      "---  ------           --------------  ----- \n",
      " 0   car_name         540 non-null    object\n",
      " 1   year             540 non-null    int64 \n",
      " 2   price            540 non-null    int64 \n",
      " 3   color            540 non-null    object\n",
      " 4   fuel type        540 non-null    object\n",
      " 5   origin           540 non-null    object\n",
      " 6   car license      540 non-null    object\n",
      " 7   gearbox          540 non-null    object\n",
      " 8   engine size      540 non-null    int64 \n",
      " 9   ad publish date  540 non-null    object\n",
      " 10  features         540 non-null    object\n",
      " 11  passenger        498 non-null    object\n",
      " 12  Payment method   540 non-null    object\n",
      "dtypes: int64(3), object(10)\n",
      "memory usage: 55.0+ KB\n"
     ]
    }
   ],
   "source": [
    "df.info()"
   ]
  },
  {
   "cell_type": "code",
   "execution_count": 6,
   "metadata": {},
   "outputs": [
    {
     "data": {
      "text/html": [
       "<div>\n",
       "<style scoped>\n",
       "    .dataframe tbody tr th:only-of-type {\n",
       "        vertical-align: middle;\n",
       "    }\n",
       "\n",
       "    .dataframe tbody tr th {\n",
       "        vertical-align: top;\n",
       "    }\n",
       "\n",
       "    .dataframe thead th {\n",
       "        text-align: right;\n",
       "    }\n",
       "</style>\n",
       "<table border=\"1\" class=\"dataframe\">\n",
       "  <thead>\n",
       "    <tr style=\"text-align: right;\">\n",
       "      <th></th>\n",
       "      <th>year</th>\n",
       "      <th>price</th>\n",
       "      <th>engine size</th>\n",
       "    </tr>\n",
       "  </thead>\n",
       "  <tbody>\n",
       "    <tr>\n",
       "      <th>count</th>\n",
       "      <td>540.000000</td>\n",
       "      <td>540.000000</td>\n",
       "      <td>540.000000</td>\n",
       "    </tr>\n",
       "    <tr>\n",
       "      <th>mean</th>\n",
       "      <td>2008.722222</td>\n",
       "      <td>60324.061111</td>\n",
       "      <td>1765.942593</td>\n",
       "    </tr>\n",
       "    <tr>\n",
       "      <th>std</th>\n",
       "      <td>8.513477</td>\n",
       "      <td>41355.023378</td>\n",
       "      <td>716.253501</td>\n",
       "    </tr>\n",
       "    <tr>\n",
       "      <th>min</th>\n",
       "      <td>1980.000000</td>\n",
       "      <td>1200.000000</td>\n",
       "      <td>210.000000</td>\n",
       "    </tr>\n",
       "    <tr>\n",
       "      <th>25%</th>\n",
       "      <td>2005.000000</td>\n",
       "      <td>34750.000000</td>\n",
       "      <td>1400.000000</td>\n",
       "    </tr>\n",
       "    <tr>\n",
       "      <th>50%</th>\n",
       "      <td>2011.000000</td>\n",
       "      <td>53000.000000</td>\n",
       "      <td>1600.000000</td>\n",
       "    </tr>\n",
       "    <tr>\n",
       "      <th>75%</th>\n",
       "      <td>2015.000000</td>\n",
       "      <td>76000.000000</td>\n",
       "      <td>2000.000000</td>\n",
       "    </tr>\n",
       "    <tr>\n",
       "      <th>max</th>\n",
       "      <td>2019.000000</td>\n",
       "      <td>470000.000000</td>\n",
       "      <td>9999.000000</td>\n",
       "    </tr>\n",
       "  </tbody>\n",
       "</table>\n",
       "</div>"
      ],
      "text/plain": [
       "              year          price  engine size\n",
       "count   540.000000     540.000000   540.000000\n",
       "mean   2008.722222   60324.061111  1765.942593\n",
       "std       8.513477   41355.023378   716.253501\n",
       "min    1980.000000    1200.000000   210.000000\n",
       "25%    2005.000000   34750.000000  1400.000000\n",
       "50%    2011.000000   53000.000000  1600.000000\n",
       "75%    2015.000000   76000.000000  2000.000000\n",
       "max    2019.000000  470000.000000  9999.000000"
      ]
     },
     "execution_count": 6,
     "metadata": {},
     "output_type": "execute_result"
    }
   ],
   "source": [
    "df.describe()"
   ]
  },
  {
   "cell_type": "markdown",
   "metadata": {},
   "source": [
    "> **2.1.2 Secand Data -> USD to ILS Exchange Rates on Advertisement Dates.**\n",
    "\n",
    "> **List of data gathering methods:**\n",
    "> - **Download data manually**\n",
    "> - **Programmatically downloading files**\n",
    "> - **Gather data by accessing APIs**\n",
    "> - **<span style=\"color:green\">Gather and extract data from HTML files using BeautifulSoup</span>**\n",
    "> - **Extract data from a SQL database**\n",
    "\n",
    "> This dataset contains the exchange rates between US Dollars (USD) and Shekels (ILS) on specific dates when advertisements were published. Each row represents the exchange rate of 1 USD to ILS on a particular date:\n",
    " > * **Ad Publish Date**:- The date when the advertisement was published.\n",
    " > * **Exchange Rate**:- The exchange rate on the corresponding publish date, representing how many Shekels (ILS) one US Dollar (USD) was worth on that date."
   ]
  },
  {
   "cell_type": "code",
   "execution_count": 7,
   "metadata": {},
   "outputs": [
    {
     "data": {
      "text/html": [
       "<div>\n",
       "<style scoped>\n",
       "    .dataframe tbody tr th:only-of-type {\n",
       "        vertical-align: middle;\n",
       "    }\n",
       "\n",
       "    .dataframe tbody tr th {\n",
       "        vertical-align: top;\n",
       "    }\n",
       "\n",
       "    .dataframe thead th {\n",
       "        text-align: right;\n",
       "    }\n",
       "</style>\n",
       "<table border=\"1\" class=\"dataframe\">\n",
       "  <thead>\n",
       "    <tr style=\"text-align: right;\">\n",
       "      <th></th>\n",
       "      <th>ad publish date</th>\n",
       "      <th>Exchange Rate</th>\n",
       "    </tr>\n",
       "  </thead>\n",
       "  <tbody>\n",
       "    <tr>\n",
       "      <th>0</th>\n",
       "      <td>26/01/2021</td>\n",
       "      <td></td>\n",
       "    </tr>\n",
       "    <tr>\n",
       "      <th>1</th>\n",
       "      <td>10/12/2020</td>\n",
       "      <td></td>\n",
       "    </tr>\n",
       "    <tr>\n",
       "      <th>2</th>\n",
       "      <td>29/11/2020</td>\n",
       "      <td></td>\n",
       "    </tr>\n",
       "    <tr>\n",
       "      <th>3</th>\n",
       "      <td>09/02/2021</td>\n",
       "      <td></td>\n",
       "    </tr>\n",
       "    <tr>\n",
       "      <th>4</th>\n",
       "      <td>28/12/2020</td>\n",
       "      <td></td>\n",
       "    </tr>\n",
       "    <tr>\n",
       "      <th>...</th>\n",
       "      <td>...</td>\n",
       "      <td>...</td>\n",
       "    </tr>\n",
       "    <tr>\n",
       "      <th>535</th>\n",
       "      <td>10/02/2021</td>\n",
       "      <td></td>\n",
       "    </tr>\n",
       "    <tr>\n",
       "      <th>536</th>\n",
       "      <td>10/02/2021</td>\n",
       "      <td></td>\n",
       "    </tr>\n",
       "    <tr>\n",
       "      <th>537</th>\n",
       "      <td>10/02/2021</td>\n",
       "      <td></td>\n",
       "    </tr>\n",
       "    <tr>\n",
       "      <th>538</th>\n",
       "      <td>10/02/2021</td>\n",
       "      <td></td>\n",
       "    </tr>\n",
       "    <tr>\n",
       "      <th>539</th>\n",
       "      <td>10/02/2021</td>\n",
       "      <td></td>\n",
       "    </tr>\n",
       "  </tbody>\n",
       "</table>\n",
       "<p>540 rows × 2 columns</p>\n",
       "</div>"
      ],
      "text/plain": [
       "    ad publish date Exchange Rate\n",
       "0        26/01/2021              \n",
       "1        10/12/2020              \n",
       "2        29/11/2020              \n",
       "3        09/02/2021              \n",
       "4        28/12/2020              \n",
       "..              ...           ...\n",
       "535      10/02/2021              \n",
       "536      10/02/2021              \n",
       "537      10/02/2021              \n",
       "538      10/02/2021              \n",
       "539      10/02/2021              \n",
       "\n",
       "[540 rows x 2 columns]"
      ]
     },
     "execution_count": 7,
     "metadata": {},
     "output_type": "execute_result"
    }
   ],
   "source": [
    "ExchangeRate_df = pd.DataFrame()\n",
    "\n",
    "# Copy only ad publish date column from the original DataFrame to the new DataFrame in order to use\n",
    "ExchangeRate_df['ad publish date'] = df['ad publish date']\n",
    "ExchangeRate_df['Exchange Rate']= ''\n",
    "\n",
    "ExchangeRate_df"
   ]
  },
  {
   "cell_type": "code",
   "execution_count": 8,
   "metadata": {},
   "outputs": [],
   "source": [
    "# change the date format in order to be align with API structure with two step \n",
    "# 1. Convert 'ad publish date' to datetime format\n",
    "ExchangeRate_df['ad publish date'] = pd.to_datetime(ExchangeRate_df['ad publish date'], format='%d/%m/%Y')\n",
    "\n",
    "# 2. apply .dt.strftime() to format the dates\n",
    "ExchangeRate_df['ad publish date'] = ExchangeRate_df['ad publish date'].dt.strftime('%d-%m-%Y')"
   ]
  },
  {
   "cell_type": "code",
   "execution_count": 9,
   "metadata": {},
   "outputs": [
    {
     "data": {
      "text/html": [
       "<div>\n",
       "<style scoped>\n",
       "    .dataframe tbody tr th:only-of-type {\n",
       "        vertical-align: middle;\n",
       "    }\n",
       "\n",
       "    .dataframe tbody tr th {\n",
       "        vertical-align: top;\n",
       "    }\n",
       "\n",
       "    .dataframe thead th {\n",
       "        text-align: right;\n",
       "    }\n",
       "</style>\n",
       "<table border=\"1\" class=\"dataframe\">\n",
       "  <thead>\n",
       "    <tr style=\"text-align: right;\">\n",
       "      <th></th>\n",
       "      <th>ad publish date</th>\n",
       "      <th>Exchange Rate</th>\n",
       "    </tr>\n",
       "  </thead>\n",
       "  <tbody>\n",
       "    <tr>\n",
       "      <th>0</th>\n",
       "      <td>26-01-2021</td>\n",
       "      <td></td>\n",
       "    </tr>\n",
       "    <tr>\n",
       "      <th>1</th>\n",
       "      <td>10-12-2020</td>\n",
       "      <td></td>\n",
       "    </tr>\n",
       "    <tr>\n",
       "      <th>2</th>\n",
       "      <td>29-11-2020</td>\n",
       "      <td></td>\n",
       "    </tr>\n",
       "    <tr>\n",
       "      <th>3</th>\n",
       "      <td>09-02-2021</td>\n",
       "      <td></td>\n",
       "    </tr>\n",
       "    <tr>\n",
       "      <th>4</th>\n",
       "      <td>28-12-2020</td>\n",
       "      <td></td>\n",
       "    </tr>\n",
       "    <tr>\n",
       "      <th>...</th>\n",
       "      <td>...</td>\n",
       "      <td>...</td>\n",
       "    </tr>\n",
       "    <tr>\n",
       "      <th>535</th>\n",
       "      <td>10-02-2021</td>\n",
       "      <td></td>\n",
       "    </tr>\n",
       "    <tr>\n",
       "      <th>536</th>\n",
       "      <td>10-02-2021</td>\n",
       "      <td></td>\n",
       "    </tr>\n",
       "    <tr>\n",
       "      <th>537</th>\n",
       "      <td>10-02-2021</td>\n",
       "      <td></td>\n",
       "    </tr>\n",
       "    <tr>\n",
       "      <th>538</th>\n",
       "      <td>10-02-2021</td>\n",
       "      <td></td>\n",
       "    </tr>\n",
       "    <tr>\n",
       "      <th>539</th>\n",
       "      <td>10-02-2021</td>\n",
       "      <td></td>\n",
       "    </tr>\n",
       "  </tbody>\n",
       "</table>\n",
       "<p>540 rows × 2 columns</p>\n",
       "</div>"
      ],
      "text/plain": [
       "    ad publish date Exchange Rate\n",
       "0        26-01-2021              \n",
       "1        10-12-2020              \n",
       "2        29-11-2020              \n",
       "3        09-02-2021              \n",
       "4        28-12-2020              \n",
       "..              ...           ...\n",
       "535      10-02-2021              \n",
       "536      10-02-2021              \n",
       "537      10-02-2021              \n",
       "538      10-02-2021              \n",
       "539      10-02-2021              \n",
       "\n",
       "[540 rows x 2 columns]"
      ]
     },
     "execution_count": 9,
     "metadata": {},
     "output_type": "execute_result"
    }
   ],
   "source": [
    "ExchangeRate_df"
   ]
  },
  {
   "cell_type": "code",
   "execution_count": 10,
   "metadata": {},
   "outputs": [
    {
     "data": {
      "text/plain": [
       "array(['26-01-2021', '10-12-2020', '29-11-2020', '09-02-2021',\n",
       "       '28-12-2020', '12-01-2021', '24-11-2020', '28-01-2021',\n",
       "       '03-02-2021', '27-01-2021', '03-01-2021', '14-01-2021',\n",
       "       '16-12-2020', '02-02-2021', '11-01-2021', '10-02-2021',\n",
       "       '01-02-2021', '12-12-2020', '17-01-2021', '04-01-2021',\n",
       "       '31-12-2020', '29-12-2020', '30-01-2021', '31-01-2021',\n",
       "       '16-01-2021', '11-02-2021'], dtype=object)"
      ]
     },
     "execution_count": 10,
     "metadata": {},
     "output_type": "execute_result"
    }
   ],
   "source": [
    "# There's alot of cars published in the same day (same date) so insted of calling the API for each date i would\n",
    "# prefer to get the unique date then get the result for this date one time\n",
    "unique_dates = ExchangeRate_df['ad publish date'].unique()\n",
    "unique_dates"
   ]
  },
  {
   "cell_type": "code",
   "execution_count": 11,
   "metadata": {},
   "outputs": [],
   "source": [
    "# define a Function to get exchange rate from Wise.com site\n",
    "def get_exchange_rate(date):\n",
    "    # Format the URL with the specified date\n",
    "    url = f'https://wise.com/gb/currency-converter/usd-to-ils-rate/history/{date}'\n",
    "    \n",
    "    # Send a GET request to fetch the HTML content\n",
    "    response = requests.get(url)\n",
    "    html_content = response.content\n",
    "    \n",
    "    # Parse HTML using BeautifulSoup\n",
    "    soup = BeautifulSoup(html_content, 'html.parser')\n",
    "    \n",
    "    # Find the element containing the exchange rate data\n",
    "    exchange_rate_element = soup.find('span', class_='text-success')\n",
    "    \n",
    "    # Extract the exchange rate value\n",
    "    if exchange_rate_element:\n",
    "        exchange_rate = exchange_rate_element.text.strip()\n",
    "        return exchange_rate\n",
    "    else:\n",
    "        return None"
   ]
  },
  {
   "cell_type": "code",
   "execution_count": 12,
   "metadata": {},
   "outputs": [
    {
     "name": "stdout",
     "output_type": "stream",
     "text": [
      "CPU times: user 3 µs, sys: 0 ns, total: 3 µs\n",
      "Wall time: 5.01 µs\n"
     ]
    }
   ],
   "source": [
    "%time\n",
    "\n",
    "# Create a dictionary to store exchange rates for unique dates\n",
    "exchange_rates = {}\n",
    "\n",
    "# Fetch exchange rates for all unique dates\n",
    "for date in unique_dates:\n",
    "    exchange_rate = get_exchange_rate(date)\n",
    "    exchange_rates[date] = exchange_rate\n",
    "\n",
    "# Map the exchange rates to the DataFrame\n",
    "ExchangeRate_df['Exchange Rate'] = ExchangeRate_df['ad publish date'].map(exchange_rates)"
   ]
  },
  {
   "cell_type": "code",
   "execution_count": 13,
   "metadata": {},
   "outputs": [
    {
     "data": {
      "text/html": [
       "<div>\n",
       "<style scoped>\n",
       "    .dataframe tbody tr th:only-of-type {\n",
       "        vertical-align: middle;\n",
       "    }\n",
       "\n",
       "    .dataframe tbody tr th {\n",
       "        vertical-align: top;\n",
       "    }\n",
       "\n",
       "    .dataframe thead th {\n",
       "        text-align: right;\n",
       "    }\n",
       "</style>\n",
       "<table border=\"1\" class=\"dataframe\">\n",
       "  <thead>\n",
       "    <tr style=\"text-align: right;\">\n",
       "      <th></th>\n",
       "      <th>ad publish date</th>\n",
       "      <th>Exchange Rate</th>\n",
       "    </tr>\n",
       "  </thead>\n",
       "  <tbody>\n",
       "    <tr>\n",
       "      <th>0</th>\n",
       "      <td>26-01-2021</td>\n",
       "      <td>3.276</td>\n",
       "    </tr>\n",
       "    <tr>\n",
       "      <th>1</th>\n",
       "      <td>10-12-2020</td>\n",
       "      <td>3.250</td>\n",
       "    </tr>\n",
       "    <tr>\n",
       "      <th>2</th>\n",
       "      <td>29-11-2020</td>\n",
       "      <td>3.318</td>\n",
       "    </tr>\n",
       "    <tr>\n",
       "      <th>3</th>\n",
       "      <td>09-02-2021</td>\n",
       "      <td>3.259</td>\n",
       "    </tr>\n",
       "    <tr>\n",
       "      <th>4</th>\n",
       "      <td>28-12-2020</td>\n",
       "      <td>3.223</td>\n",
       "    </tr>\n",
       "    <tr>\n",
       "      <th>...</th>\n",
       "      <td>...</td>\n",
       "      <td>...</td>\n",
       "    </tr>\n",
       "    <tr>\n",
       "      <th>535</th>\n",
       "      <td>10-02-2021</td>\n",
       "      <td>3.250</td>\n",
       "    </tr>\n",
       "    <tr>\n",
       "      <th>536</th>\n",
       "      <td>10-02-2021</td>\n",
       "      <td>3.250</td>\n",
       "    </tr>\n",
       "    <tr>\n",
       "      <th>537</th>\n",
       "      <td>10-02-2021</td>\n",
       "      <td>3.250</td>\n",
       "    </tr>\n",
       "    <tr>\n",
       "      <th>538</th>\n",
       "      <td>10-02-2021</td>\n",
       "      <td>3.250</td>\n",
       "    </tr>\n",
       "    <tr>\n",
       "      <th>539</th>\n",
       "      <td>10-02-2021</td>\n",
       "      <td>3.250</td>\n",
       "    </tr>\n",
       "  </tbody>\n",
       "</table>\n",
       "<p>540 rows × 2 columns</p>\n",
       "</div>"
      ],
      "text/plain": [
       "    ad publish date Exchange Rate\n",
       "0        26-01-2021         3.276\n",
       "1        10-12-2020         3.250\n",
       "2        29-11-2020         3.318\n",
       "3        09-02-2021         3.259\n",
       "4        28-12-2020         3.223\n",
       "..              ...           ...\n",
       "535      10-02-2021         3.250\n",
       "536      10-02-2021         3.250\n",
       "537      10-02-2021         3.250\n",
       "538      10-02-2021         3.250\n",
       "539      10-02-2021         3.250\n",
       "\n",
       "[540 rows x 2 columns]"
      ]
     },
     "execution_count": 13,
     "metadata": {},
     "output_type": "execute_result"
    }
   ],
   "source": [
    "ExchangeRate_df"
   ]
  },
  {
   "cell_type": "markdown",
   "metadata": {},
   "source": [
    "\n",
    "### 2.2.1 Now Lets assest Quality Issues for the first Data-> Used Car Data and Prices in Palestine.\n",
    "\n",
    "\n",
    "> **I will list all quality issue may the Data faced.**\n",
    "> - Inaccurate data: Data that contains errors, mistakes, or inconsistencies. ( Accuracy )\n",
    "> - Missing data: Data that is incomplete or has missing values ( Completeness ).\n",
    "> - Duplicate data: Data that is repeated or duplicated within the dataset.\n",
    "> - Outliers: Data points that are significantly different from other data points.\n",
    "> - Inconsistent data: Data that is inconsistent in format, units, or naming conventions ( Consistency + Uniqueness ).\n",
    "> - Validity\n",
    "\n",
    "    \n",
    "    \n",
    "### 2.2.1.1 Check for Missing Data ( Completeness ) -> "
   ]
  },
  {
   "cell_type": "code",
   "execution_count": 14,
   "metadata": {},
   "outputs": [
    {
     "data": {
      "text/plain": [
       "car_name            0\n",
       "year                0\n",
       "price               0\n",
       "color               0\n",
       "fuel type           0\n",
       "origin              0\n",
       "car license         0\n",
       "gearbox             0\n",
       "engine size         0\n",
       "ad publish date     0\n",
       "features            0\n",
       "passenger          42\n",
       "Payment method      0\n",
       "dtype: int64"
      ]
     },
     "execution_count": 14,
     "metadata": {},
     "output_type": "execute_result"
    }
   ],
   "source": [
    "df.isnull().sum()"
   ]
  },
  {
   "cell_type": "markdown",
   "metadata": {},
   "source": [
    "#### **as you can see from the previous result there's a missing data in <span style=\"color:red\"> passenger </span> coulmn. Lets solve it**\n",
    "\n",
    "> How to solve the missing data?\n",
    "    > - I have missing data in the passenger column. Since some cars have the passenger information filled in while similar cars do not, I use the following code to fill in the missing passenger data based on the most common value (mode) of the existing data for cars with the same name. If there are no cars with passenger data, 'Unknown' is added to the passenger column"
   ]
  },
  {
   "cell_type": "code",
   "execution_count": 15,
   "metadata": {},
   "outputs": [],
   "source": [
    "df['passenger'] = df.groupby(['car_name'])['passenger'].transform(lambda x: x.fillna(x.mode()[0] if not x.mode().empty else 'Unknown'))"
   ]
  },
  {
   "cell_type": "markdown",
   "metadata": {},
   "source": [
    "#### check if there is a unique car in the dataset where the passenger information is still marked as 'Unknown'.\n"
   ]
  },
  {
   "cell_type": "code",
   "execution_count": 16,
   "metadata": {},
   "outputs": [
    {
     "data": {
      "text/html": [
       "<div>\n",
       "<style scoped>\n",
       "    .dataframe tbody tr th:only-of-type {\n",
       "        vertical-align: middle;\n",
       "    }\n",
       "\n",
       "    .dataframe tbody tr th {\n",
       "        vertical-align: top;\n",
       "    }\n",
       "\n",
       "    .dataframe thead th {\n",
       "        text-align: right;\n",
       "    }\n",
       "</style>\n",
       "<table border=\"1\" class=\"dataframe\">\n",
       "  <thead>\n",
       "    <tr style=\"text-align: right;\">\n",
       "      <th></th>\n",
       "      <th>car_name</th>\n",
       "      <th>year</th>\n",
       "      <th>price</th>\n",
       "      <th>color</th>\n",
       "      <th>fuel type</th>\n",
       "      <th>origin</th>\n",
       "      <th>car license</th>\n",
       "      <th>gearbox</th>\n",
       "      <th>engine size</th>\n",
       "      <th>ad publish date</th>\n",
       "      <th>features</th>\n",
       "      <th>passenger</th>\n",
       "      <th>Payment method</th>\n",
       "    </tr>\n",
       "  </thead>\n",
       "  <tbody>\n",
       "    <tr>\n",
       "      <th>389</th>\n",
       "      <td>سكودا يتي</td>\n",
       "      <td>2013</td>\n",
       "      <td>67000</td>\n",
       "      <td>فيراني</td>\n",
       "      <td>بنزين</td>\n",
       "      <td>خصوصي</td>\n",
       "      <td>فلسطينية</td>\n",
       "      <td>عادي</td>\n",
       "      <td>1200</td>\n",
       "      <td>27/01/2021</td>\n",
       "      <td>مُكيّف,إغلاق مركزي,جهاز إنذار,مسجل CD,جنطات مغ...</td>\n",
       "      <td>Unknown</td>\n",
       "      <td>نقدا فقط</td>\n",
       "    </tr>\n",
       "  </tbody>\n",
       "</table>\n",
       "</div>"
      ],
      "text/plain": [
       "      car_name  year  price    color fuel type  origin car license gearbox  \\\n",
       "389  سكودا يتي  2013  67000  فيراني     بنزين   خصوصي    فلسطينية    عادي    \n",
       "\n",
       "     engine size ad publish date  \\\n",
       "389         1200      27/01/2021   \n",
       "\n",
       "                                              features passenger  \\\n",
       "389  مُكيّف,إغلاق مركزي,جهاز إنذار,مسجل CD,جنطات مغ...   Unknown   \n",
       "\n",
       "    Payment method  \n",
       "389      نقدا فقط   "
      ]
     },
     "execution_count": 16,
     "metadata": {},
     "output_type": "execute_result"
    }
   ],
   "source": [
    "# check if there's a unique car in the dataset and the passenger value still UnKnown\n",
    "unknown_passengers = df[df['passenger'] == 'Unknown']\n",
    "\n",
    "unknown_passengers"
   ]
  },
  {
   "cell_type": "markdown",
   "metadata": {},
   "source": [
    "#### we found that there's still a car with Unknown value we can fill the value manually"
   ]
  },
  {
   "cell_type": "code",
   "execution_count": 17,
   "metadata": {},
   "outputs": [],
   "source": [
    "# since there's a car still UnKnown we can fill the value for them manually \n",
    "df.loc[389, 'passenger'] = '4+1'"
   ]
  },
  {
   "cell_type": "code",
   "execution_count": 18,
   "metadata": {},
   "outputs": [
    {
     "data": {
      "text/plain": [
       "car_name           0\n",
       "year               0\n",
       "price              0\n",
       "color              0\n",
       "fuel type          0\n",
       "origin             0\n",
       "car license        0\n",
       "gearbox            0\n",
       "engine size        0\n",
       "ad publish date    0\n",
       "features           0\n",
       "passenger          0\n",
       "Payment method     0\n",
       "dtype: int64"
      ]
     },
     "execution_count": 18,
     "metadata": {},
     "output_type": "execute_result"
    }
   ],
   "source": [
    "# check one more time for null value\n",
    "df.isnull().sum()"
   ]
  },
  {
   "cell_type": "markdown",
   "metadata": {},
   "source": [
    "### <span style=\"color:Green\"> Now There's No Missing value founded and the first quality was solved</span> "
   ]
  },
  {
   "cell_type": "markdown",
   "metadata": {},
   "source": [
    "### 2.2.1.2 Check for Duplicated Data -> <span style=\"color:Green\"> There's No Duplicated Data founded </span> "
   ]
  },
  {
   "cell_type": "code",
   "execution_count": 19,
   "metadata": {},
   "outputs": [
    {
     "data": {
      "text/plain": [
       "0"
      ]
     },
     "execution_count": 19,
     "metadata": {},
     "output_type": "execute_result"
    }
   ],
   "source": [
    "sum(df.duplicated())"
   ]
  },
  {
   "cell_type": "markdown",
   "metadata": {},
   "source": [
    "### Check for Accuracy Issue:- Inaccurate data: Data that contains errors, mistakes, or inconsistencies.  -> \n",
    "\n",
    "  \n",
    "  > #### 1. Check visually for the issue"
   ]
  },
  {
   "cell_type": "code",
   "execution_count": 20,
   "metadata": {},
   "outputs": [
    {
     "data": {
      "image/png": "[encoded data removed]",
      "text/plain": [
       "<Figure size 800x600 with 1 Axes>"
      ]
     },
     "metadata": {},
     "output_type": "display_data"
    }
   ],
   "source": [
    "plt.figure(figsize=(8, 6))\n",
    "plt.scatter(df['engine size'].value_counts().index, df['engine size'].value_counts().values)\n",
    "plt.title('Distribution of engine size')\n",
    "plt.xlabel('Engine size')\n",
    "plt.ylabel('Count')\n",
    "plt.show()"
   ]
  },
  {
   "cell_type": "markdown",
   "metadata": {},
   "source": [
    " ### After check the previous figure, it becomes evident that some cars have an engine size less than the expected 900cc, prompting further investigation.\n",
    " \n",
    "> **Lets check programmatically for this issue to gain more understand**"
   ]
  },
  {
   "cell_type": "code",
   "execution_count": 21,
   "metadata": {},
   "outputs": [
    {
     "data": {
      "text/html": [
       "<div>\n",
       "<style scoped>\n",
       "    .dataframe tbody tr th:only-of-type {\n",
       "        vertical-align: middle;\n",
       "    }\n",
       "\n",
       "    .dataframe tbody tr th {\n",
       "        vertical-align: top;\n",
       "    }\n",
       "\n",
       "    .dataframe thead th {\n",
       "        text-align: right;\n",
       "    }\n",
       "</style>\n",
       "<table border=\"1\" class=\"dataframe\">\n",
       "  <thead>\n",
       "    <tr style=\"text-align: right;\">\n",
       "      <th></th>\n",
       "      <th>car_name</th>\n",
       "      <th>year</th>\n",
       "      <th>price</th>\n",
       "      <th>color</th>\n",
       "      <th>fuel type</th>\n",
       "      <th>origin</th>\n",
       "      <th>car license</th>\n",
       "      <th>gearbox</th>\n",
       "      <th>engine size</th>\n",
       "      <th>ad publish date</th>\n",
       "      <th>features</th>\n",
       "      <th>passenger</th>\n",
       "      <th>Payment method</th>\n",
       "    </tr>\n",
       "  </thead>\n",
       "  <tbody>\n",
       "    <tr>\n",
       "      <th>64</th>\n",
       "      <td>مرسيدس 220</td>\n",
       "      <td>1996</td>\n",
       "      <td>22000</td>\n",
       "      <td>أبيض</td>\n",
       "      <td>ديزل</td>\n",
       "      <td>عمومي</td>\n",
       "      <td>فلسطينية</td>\n",
       "      <td>عادي</td>\n",
       "      <td>220</td>\n",
       "      <td>12/01/2021</td>\n",
       "      <td>إغلاق مركزي,مسجل CD,جنطات مغنيسيوم,وسادة حماية...</td>\n",
       "      <td>4+1</td>\n",
       "      <td>نقدا فقط</td>\n",
       "    </tr>\n",
       "    <tr>\n",
       "      <th>253</th>\n",
       "      <td>فولفو Fl6</td>\n",
       "      <td>2000</td>\n",
       "      <td>85000</td>\n",
       "      <td>أبيض عاجي</td>\n",
       "      <td>ديزل</td>\n",
       "      <td>خصوصي</td>\n",
       "      <td>فلسطينية</td>\n",
       "      <td>عادي</td>\n",
       "      <td>210</td>\n",
       "      <td>12/12/2020</td>\n",
       "      <td>مُكيّف,إغلاق مركزي,مسجل CD,فتحة سقف,فرش جلد,وس...</td>\n",
       "      <td>2+1</td>\n",
       "      <td>نقدا فقط</td>\n",
       "    </tr>\n",
       "    <tr>\n",
       "      <th>262</th>\n",
       "      <td>فولفو Fl6</td>\n",
       "      <td>2000</td>\n",
       "      <td>75000</td>\n",
       "      <td>أبيض عاجي</td>\n",
       "      <td>ديزل</td>\n",
       "      <td>خصوصي</td>\n",
       "      <td>فلسطينية</td>\n",
       "      <td>عادي</td>\n",
       "      <td>210</td>\n",
       "      <td>12/12/2020</td>\n",
       "      <td>مُكيّف,إغلاق مركزي,جهاز إنذار,مسجل CD,فتحة سقف...</td>\n",
       "      <td>2+1</td>\n",
       "      <td>نقدا فقط</td>\n",
       "    </tr>\n",
       "    <tr>\n",
       "      <th>266</th>\n",
       "      <td>فولفو Fl6</td>\n",
       "      <td>2006</td>\n",
       "      <td>115000</td>\n",
       "      <td>أبيض عاجي</td>\n",
       "      <td>ديزل</td>\n",
       "      <td>خصوصي</td>\n",
       "      <td>فلسطينية</td>\n",
       "      <td>عادي</td>\n",
       "      <td>250</td>\n",
       "      <td>12/12/2020</td>\n",
       "      <td>مُكيّف,إغلاق مركزي,جهاز إنذار,مسجل CD,فتحة سقف...</td>\n",
       "      <td>4+1</td>\n",
       "      <td>نقدا فقط</td>\n",
       "    </tr>\n",
       "    <tr>\n",
       "      <th>338</th>\n",
       "      <td>داف 55</td>\n",
       "      <td>2005</td>\n",
       "      <td>95000</td>\n",
       "      <td>أبيض</td>\n",
       "      <td>ديزل</td>\n",
       "      <td>تجاري</td>\n",
       "      <td>فلسطينية</td>\n",
       "      <td>عادي</td>\n",
       "      <td>250</td>\n",
       "      <td>12/01/2021</td>\n",
       "      <td>إغلاق مركزي,جهاز إنذار</td>\n",
       "      <td>2+1</td>\n",
       "      <td>إمكانية التقسيط</td>\n",
       "    </tr>\n",
       "    <tr>\n",
       "      <th>464</th>\n",
       "      <td>داف 55</td>\n",
       "      <td>2005</td>\n",
       "      <td>75000</td>\n",
       "      <td>أبيض</td>\n",
       "      <td>ديزل</td>\n",
       "      <td>تجاري</td>\n",
       "      <td>فلسطينية</td>\n",
       "      <td>عادي</td>\n",
       "      <td>240</td>\n",
       "      <td>12/01/2021</td>\n",
       "      <td>مُكيّف,إغلاق مركزي,جهاز إنذار,مسجل CD,وسادة حم...</td>\n",
       "      <td>2+1</td>\n",
       "      <td>نقدا فقط</td>\n",
       "    </tr>\n",
       "    <tr>\n",
       "      <th>489</th>\n",
       "      <td>دراجة نارية 2017</td>\n",
       "      <td>2017</td>\n",
       "      <td>45000</td>\n",
       "      <td>برتقالي</td>\n",
       "      <td>بنزين</td>\n",
       "      <td>خصوصي</td>\n",
       "      <td>فلسطينية</td>\n",
       "      <td>عادي</td>\n",
       "      <td>250</td>\n",
       "      <td>11/02/2021</td>\n",
       "      <td>مُكيّف,إغلاق مركزي,جهاز إنذار,مسجل CD,وسادة حم...</td>\n",
       "      <td>1+1</td>\n",
       "      <td>إمكانية التقسيط</td>\n",
       "    </tr>\n",
       "  </tbody>\n",
       "</table>\n",
       "</div>"
      ],
      "text/plain": [
       "             car_name  year   price       color fuel type  origin car license  \\\n",
       "64         مرسيدس 220  1996   22000       أبيض      ديزل   عمومي    فلسطينية    \n",
       "253         فولفو Fl6  2000   85000  أبيض عاجي      ديزل   خصوصي    فلسطينية    \n",
       "262         فولفو Fl6  2000   75000  أبيض عاجي      ديزل   خصوصي    فلسطينية    \n",
       "266         فولفو Fl6  2006  115000  أبيض عاجي      ديزل   خصوصي    فلسطينية    \n",
       "338            داف 55  2005   95000       أبيض      ديزل   تجاري    فلسطينية    \n",
       "464            داف 55  2005   75000       أبيض      ديزل   تجاري    فلسطينية    \n",
       "489  دراجة نارية 2017  2017   45000    برتقالي     بنزين   خصوصي    فلسطينية    \n",
       "\n",
       "    gearbox  engine size ad publish date  \\\n",
       "64    عادي           220      12/01/2021   \n",
       "253   عادي           210      12/12/2020   \n",
       "262   عادي           210      12/12/2020   \n",
       "266   عادي           250      12/12/2020   \n",
       "338   عادي           250      12/01/2021   \n",
       "464   عادي           240      12/01/2021   \n",
       "489   عادي           250      11/02/2021   \n",
       "\n",
       "                                              features passenger  \\\n",
       "64   إغلاق مركزي,مسجل CD,جنطات مغنيسيوم,وسادة حماية...      4+1    \n",
       "253  مُكيّف,إغلاق مركزي,مسجل CD,فتحة سقف,فرش جلد,وس...      2+1    \n",
       "262  مُكيّف,إغلاق مركزي,جهاز إنذار,مسجل CD,فتحة سقف...      2+1    \n",
       "266  مُكيّف,إغلاق مركزي,جهاز إنذار,مسجل CD,فتحة سقف...      4+1    \n",
       "338                             إغلاق مركزي,جهاز إنذار      2+1    \n",
       "464  مُكيّف,إغلاق مركزي,جهاز إنذار,مسجل CD,وسادة حم...      2+1    \n",
       "489  مُكيّف,إغلاق مركزي,جهاز إنذار,مسجل CD,وسادة حم...      1+1    \n",
       "\n",
       "       Payment method  \n",
       "64          نقدا فقط   \n",
       "253         نقدا فقط   \n",
       "262         نقدا فقط   \n",
       "266         نقدا فقط   \n",
       "338  إمكانية التقسيط   \n",
       "464         نقدا فقط   \n",
       "489  إمكانية التقسيط   "
      ]
     },
     "execution_count": 21,
     "metadata": {},
     "output_type": "execute_result"
    }
   ],
   "source": [
    "below = df[df['engine size'] < 900]\n",
    "below"
   ]
  },
  {
   "cell_type": "markdown",
   "metadata": {},
   "source": [
    "### After identifying the issue, we discovered that there was a missing zero in all columns, resulting in numbers such as 220 instead of 2200. We resolved this manually. There's a motorcycle in the data where it makes sense to have a smaller engine size, so we kept it as is."
   ]
  },
  {
   "cell_type": "code",
   "execution_count": 22,
   "metadata": {},
   "outputs": [],
   "source": [
    "df.loc[64, 'engine size'] = 2200\n",
    "df.loc[253, 'engine size'] = 2100\n",
    "df.loc[262, 'engine size'] = 2100\n",
    "df.loc[266, 'engine size'] = 2500\n",
    "df.loc[338, 'engine size'] = 2500\n",
    "df.loc[464, 'engine size'] = 2400"
   ]
  },
  {
   "cell_type": "code",
   "execution_count": 23,
   "metadata": {},
   "outputs": [
    {
     "data": {
      "text/html": [
       "<div>\n",
       "<style scoped>\n",
       "    .dataframe tbody tr th:only-of-type {\n",
       "        vertical-align: middle;\n",
       "    }\n",
       "\n",
       "    .dataframe tbody tr th {\n",
       "        vertical-align: top;\n",
       "    }\n",
       "\n",
       "    .dataframe thead th {\n",
       "        text-align: right;\n",
       "    }\n",
       "</style>\n",
       "<table border=\"1\" class=\"dataframe\">\n",
       "  <thead>\n",
       "    <tr style=\"text-align: right;\">\n",
       "      <th></th>\n",
       "      <th>car_name</th>\n",
       "      <th>year</th>\n",
       "      <th>price</th>\n",
       "      <th>color</th>\n",
       "      <th>fuel type</th>\n",
       "      <th>origin</th>\n",
       "      <th>car license</th>\n",
       "      <th>gearbox</th>\n",
       "      <th>engine size</th>\n",
       "      <th>ad publish date</th>\n",
       "      <th>features</th>\n",
       "      <th>passenger</th>\n",
       "      <th>Payment method</th>\n",
       "    </tr>\n",
       "  </thead>\n",
       "  <tbody>\n",
       "    <tr>\n",
       "      <th>489</th>\n",
       "      <td>دراجة نارية 2017</td>\n",
       "      <td>2017</td>\n",
       "      <td>45000</td>\n",
       "      <td>برتقالي</td>\n",
       "      <td>بنزين</td>\n",
       "      <td>خصوصي</td>\n",
       "      <td>فلسطينية</td>\n",
       "      <td>عادي</td>\n",
       "      <td>250</td>\n",
       "      <td>11/02/2021</td>\n",
       "      <td>مُكيّف,إغلاق مركزي,جهاز إنذار,مسجل CD,وسادة حم...</td>\n",
       "      <td>1+1</td>\n",
       "      <td>إمكانية التقسيط</td>\n",
       "    </tr>\n",
       "  </tbody>\n",
       "</table>\n",
       "</div>"
      ],
      "text/plain": [
       "             car_name  year  price     color fuel type  origin car license  \\\n",
       "489  دراجة نارية 2017  2017  45000  برتقالي     بنزين   خصوصي    فلسطينية    \n",
       "\n",
       "    gearbox  engine size ad publish date  \\\n",
       "489   عادي           250      11/02/2021   \n",
       "\n",
       "                                              features passenger  \\\n",
       "489  مُكيّف,إغلاق مركزي,جهاز إنذار,مسجل CD,وسادة حم...      1+1    \n",
       "\n",
       "       Payment method  \n",
       "489  إمكانية التقسيط   "
      ]
     },
     "execution_count": 23,
     "metadata": {},
     "output_type": "execute_result"
    }
   ],
   "source": [
    "# keep this record because its a motorcycle and the engine size is make sense \n",
    "below = df[df['engine size'] < 900]\n",
    "below"
   ]
  },
  {
   "cell_type": "markdown",
   "metadata": {},
   "source": [
    "### **Check for Validity Erroneous data types** ->\n",
    " > **The passenger column contains expressions like \"4+1\" or \"6+1\", which we can convert to integers instead of treating them as strings.**\n",
    "\n",
    "> #### 1. Check Visually for the issue"
   ]
  },
  {
   "cell_type": "code",
   "execution_count": 24,
   "metadata": {},
   "outputs": [
    {
     "data": {
      "image/png": "[encoded data removed]",
      "text/plain": [
       "<Figure size 800x600 with 1 Axes>"
      ]
     },
     "metadata": {},
     "output_type": "display_data"
    }
   ],
   "source": [
    "plt.figure(figsize=(8, 6))\n",
    "df['passenger'].value_counts().plot(kind='bar', rot=0)\n",
    "plt.title('Distribution of Passenger Counts')\n",
    "plt.xlabel('Passenger Count')\n",
    "plt.ylabel('Count')\n",
    "plt.show()"
   ]
  },
  {
   "cell_type": "markdown",
   "metadata": {},
   "source": [
    "> #### 2. Check programmatically for the issue\n",
    "    > - Get all unique values for the passanger column"
   ]
  },
  {
   "cell_type": "code",
   "execution_count": 25,
   "metadata": {},
   "outputs": [
    {
     "data": {
      "text/plain": [
       "array(['4+1 ', '7+1 ', '6+1 ', '2+1 ', '5+1 ', '3+1 ', '8+1 ', '4+1',\n",
       "       '1+1 '], dtype=object)"
      ]
     },
     "execution_count": 25,
     "metadata": {},
     "output_type": "execute_result"
    }
   ],
   "source": [
    "df['passenger'].unique()"
   ]
  },
  {
   "cell_type": "code",
   "execution_count": 26,
   "metadata": {},
   "outputs": [],
   "source": [
    "# Function to calculate the total passenger count from expressions like '4+1'\n",
    "def calculate_passenger(expression):\n",
    "    parts = expression.split('+')\n",
    "    total_passengers = sum(int(part) for part in parts)\n",
    "    return total_passengers\n",
    "\n",
    "# Apply the function to each row in the 'passenger' column\n",
    "df['passenger'] = df['passenger'].apply(calculate_passenger)"
   ]
  },
  {
   "cell_type": "markdown",
   "metadata": {},
   "source": [
    "**After apply the previous function we can now see that the passanger column contain integer value not string value and the <span style='color:green'> Validity Erroneous data types issue for passenger solved </span>**"
   ]
  },
  {
   "cell_type": "code",
   "execution_count": 27,
   "metadata": {},
   "outputs": [
    {
     "name": "stdout",
     "output_type": "stream",
     "text": [
      "<class 'pandas.core.frame.DataFrame'>\n",
      "RangeIndex: 540 entries, 0 to 539\n",
      "Data columns (total 13 columns):\n",
      " #   Column           Non-Null Count  Dtype \n",
      "---  ------           --------------  ----- \n",
      " 0   car_name         540 non-null    object\n",
      " 1   year             540 non-null    int64 \n",
      " 2   price            540 non-null    int64 \n",
      " 3   color            540 non-null    object\n",
      " 4   fuel type        540 non-null    object\n",
      " 5   origin           540 non-null    object\n",
      " 6   car license      540 non-null    object\n",
      " 7   gearbox          540 non-null    object\n",
      " 8   engine size      540 non-null    int64 \n",
      " 9   ad publish date  540 non-null    object\n",
      " 10  features         540 non-null    object\n",
      " 11  passenger        540 non-null    int64 \n",
      " 12  Payment method   540 non-null    object\n",
      "dtypes: int64(4), object(9)\n",
      "memory usage: 55.0+ KB\n"
     ]
    }
   ],
   "source": [
    "df.info()"
   ]
  },
  {
   "cell_type": "markdown",
   "metadata": {},
   "source": [
    "### 2.2.1.5 Now Lets assest and clean for a tidiness issues\n",
    "> I will list all tidines issue may data faced\n",
    "    > - Columns containing multiple variables: Data that has multiple variables stored in a single column.\n",
    "   >  - having two dataset with differnet foramt\n",
    "   >  - Untidy data structure: Data that is not organized or structured in a consistent and logical manner.\n",
    "   >  - Rows containing multiple observations: Data that has multiple observations stored in a single row.\n",
    "   >  - Inconsistent data types: Data that has inconsistent data types within the same column.\n",
    "   >  - Redundant information: Data that contains unnecessary or duplicate information.\n",
    "\n",
    "\n",
    "> #### **First issue:- Check for Multiple Variables in One Column** -> <span style=\"color:red\"> I have a column called features that contains a list of feature for the the car seprated by comma and this is an issue of columns containing multiple variables </span>\n",
    "\n",
    "> #### 1. Check Visually for the issue"
   ]
  },
  {
   "cell_type": "code",
   "execution_count": 28,
   "metadata": {},
   "outputs": [
    {
     "data": {
      "image/png": "[encoded data removed]",
      "text/plain": [
       "<Figure size 800x600 with 1 Axes>"
      ]
     },
     "metadata": {},
     "output_type": "display_data"
    }
   ],
   "source": [
    "# get the feature counts \n",
    "feature_counts = df['features'].value_counts()  \n",
    "\n",
    "# sort them desc in order to get the top vounts\n",
    "sorted_counts = feature_counts.sort_values(ascending=False)\n",
    "\n",
    "# Get the top 5 features because there's a lot of features\n",
    "top_5_features = sorted_counts.head(5)\n",
    "\n",
    "fig, ax = plt.subplots(figsize=(8, 6))  \n",
    "\n",
    "ax.pie(top_5_features, labels=top_5_features.index, autopct='%1.1f%%', startangle=140)\n",
    "\n",
    "ax.axis('equal')\n",
    "\n",
    "plt.show()"
   ]
  },
  {
   "cell_type": "markdown",
   "metadata": {},
   "source": [
    "> #### 2. Check programmatically for the issue\n",
    " > - check How value stored in features column"
   ]
  },
  {
   "cell_type": "code",
   "execution_count": 29,
   "metadata": {},
   "outputs": [
    {
     "data": {
      "text/html": [
       "<div>\n",
       "<style scoped>\n",
       "    .dataframe tbody tr th:only-of-type {\n",
       "        vertical-align: middle;\n",
       "    }\n",
       "\n",
       "    .dataframe tbody tr th {\n",
       "        vertical-align: top;\n",
       "    }\n",
       "\n",
       "    .dataframe thead th {\n",
       "        text-align: right;\n",
       "    }\n",
       "</style>\n",
       "<table border=\"1\" class=\"dataframe\">\n",
       "  <thead>\n",
       "    <tr style=\"text-align: right;\">\n",
       "      <th></th>\n",
       "      <th>car_name</th>\n",
       "      <th>year</th>\n",
       "      <th>price</th>\n",
       "      <th>color</th>\n",
       "      <th>fuel type</th>\n",
       "      <th>origin</th>\n",
       "      <th>car license</th>\n",
       "      <th>gearbox</th>\n",
       "      <th>engine size</th>\n",
       "      <th>ad publish date</th>\n",
       "      <th>features</th>\n",
       "      <th>passenger</th>\n",
       "      <th>Payment method</th>\n",
       "    </tr>\n",
       "  </thead>\n",
       "  <tbody>\n",
       "    <tr>\n",
       "      <th>0</th>\n",
       "      <td>هونداي اكسنت</td>\n",
       "      <td>2010</td>\n",
       "      <td>30000</td>\n",
       "      <td>فيراني</td>\n",
       "      <td>بنزين</td>\n",
       "      <td>تأجير</td>\n",
       "      <td>فلسطينية</td>\n",
       "      <td>نصف اوتوماتيك</td>\n",
       "      <td>1400</td>\n",
       "      <td>26/01/2021</td>\n",
       "      <td>مُكيّف,إغلاق مركزي,جهاز إنذار,مسجل CD,وسادة حم...</td>\n",
       "      <td>5</td>\n",
       "      <td>إمكانية التقسيط</td>\n",
       "    </tr>\n",
       "    <tr>\n",
       "      <th>1</th>\n",
       "      <td>اودي A4</td>\n",
       "      <td>2000</td>\n",
       "      <td>28000</td>\n",
       "      <td>كحلي</td>\n",
       "      <td>بنزين</td>\n",
       "      <td>خصوصي</td>\n",
       "      <td>فلسطينية</td>\n",
       "      <td>اوتوماتيك</td>\n",
       "      <td>1800</td>\n",
       "      <td>10/12/2020</td>\n",
       "      <td>مُكيّف,إغلاق مركزي,مسجل CD,فتحة سقف,جنطات مغني...</td>\n",
       "      <td>5</td>\n",
       "      <td>نقدا فقط</td>\n",
       "    </tr>\n",
       "  </tbody>\n",
       "</table>\n",
       "</div>"
      ],
      "text/plain": [
       "       car_name  year  price    color fuel type  origin car license  \\\n",
       "0  هونداي اكسنت  2010  30000  فيراني     بنزين   تأجير    فلسطينية    \n",
       "1       اودي A4  2000  28000    كحلي     بنزين   خصوصي    فلسطينية    \n",
       "\n",
       "          gearbox  engine size ad publish date  \\\n",
       "0  نصف اوتوماتيك          1400      26/01/2021   \n",
       "1      اوتوماتيك          1800      10/12/2020   \n",
       "\n",
       "                                            features  passenger  \\\n",
       "0  مُكيّف,إغلاق مركزي,جهاز إنذار,مسجل CD,وسادة حم...          5   \n",
       "1  مُكيّف,إغلاق مركزي,مسجل CD,فتحة سقف,جنطات مغني...          5   \n",
       "\n",
       "     Payment method  \n",
       "0  إمكانية التقسيط   \n",
       "1         نقدا فقط   "
      ]
     },
     "execution_count": 29,
     "metadata": {},
     "output_type": "execute_result"
    }
   ],
   "source": [
    "df.head(2)"
   ]
  },
  {
   "cell_type": "markdown",
   "metadata": {},
   "source": [
    "> so in order to solve this issue lets seprated this column in multiples columns by:\n",
    " > - first create 8 columns that can hold the features after seprated\n",
    " > - itrate throw each row and add 1 when the car have this feature in the list and 0 if not"
   ]
  },
  {
   "cell_type": "code",
   "execution_count": 30,
   "metadata": {},
   "outputs": [],
   "source": [
    "# create a new columns that will hold the features after split\n",
    "\n",
    "df[\"alarm\"]=0\n",
    "df[\"ac\"]=0\n",
    "df[\"radio_cd\"]=0\n",
    "df[\"sunroof\"]=0\n",
    "df[\"leatherـchair\"]=0\n",
    "df[\"centralـLock\"]=0\n",
    "df[\"magnesium_wheels\"]=0\n",
    "df[\"air_bag\"]=0"
   ]
  },
  {
   "cell_type": "code",
   "execution_count": 31,
   "metadata": {},
   "outputs": [],
   "source": [
    "lable_features=[\"جهاز إنذار\",\"مُكيّف\",\"مسجل CD\",\"فتحة سقف\",\"فرش جلد\",\"إغلاق مركزي\",\"جنطات مغنيسيوم\",\"وسادة حماية هوائية\"]"
   ]
  },
  {
   "cell_type": "code",
   "execution_count": 32,
   "metadata": {},
   "outputs": [
    {
     "name": "stdout",
     "output_type": "stream",
     "text": [
      "CPU times: user 73.8 ms, sys: 909 µs, total: 74.7 ms\n",
      "Wall time: 89.3 ms\n"
     ]
    }
   ],
   "source": [
    "%%time\n",
    "for row in range(0,df.shape[0]):\n",
    "    features_string=df.at[row,\"features\"]\n",
    "    if type(features_string) == str:\n",
    "        features=features_string.split(\",\")\n",
    "        if len(features) >0:\n",
    "            for lable in features:\n",
    "                lable=lable.strip()\n",
    "                if lable in lable_features:\n",
    "                    if lable == \"جهاز إنذار\":\n",
    "                        df.at[row,\"alarm\"]=1;\n",
    "                    elif lable == \"مُكيّف\":\n",
    "                        df.at[row,\"ac\"]=1;\n",
    "                    elif lable == \"مسجل CD\":\n",
    "                        df.at[row,\"radio_cd\"]=1;\n",
    "                    elif lable == \"فتحة سقف\":\n",
    "                        df.at[row,\"sunroof\"]=1;\n",
    "                    elif lable == \"فرش جلد\":\n",
    "                        df.at[row,\"leatherـchair\"]=1;\n",
    "                    elif lable == \"إغلاق مركزي\":\n",
    "                        df.at[row,\"centralـLock\"]=1;\n",
    "                    elif lable == \"جنطات مغنيسيوم\":\n",
    "                        df.at[row,\"magnesium_wheels\"]=1;\n",
    "                    elif lable == \"وسادة حماية هوائية\":\n",
    "                        df.at[row,\"air_bag\"]=1;\n",
    "        "
   ]
  },
  {
   "cell_type": "markdown",
   "metadata": {},
   "source": [
    "**we can now safely delete the features column**"
   ]
  },
  {
   "cell_type": "code",
   "execution_count": 33,
   "metadata": {},
   "outputs": [],
   "source": [
    "# we can now remove features from the dateframe \n",
    "df = df.drop('features', axis=1)"
   ]
  },
  {
   "cell_type": "markdown",
   "metadata": {},
   "source": [
    "#### Secand Issue:- Inconsistent data types: Data that has inconsistent data types within the same column. -> having two dataset with differnet foramt -> the next step for us is to merge the two dataset so we will merge on ad publish date column so we should to make sure that the column in the two dataset I mean ad publish date in first dateframe and in secand dateframe has the same strucute and dtype\n",
    "\n",
    "\n",
    "\n",
    "#### Check for date format in both dateframes "
   ]
  },
  {
   "cell_type": "code",
   "execution_count": 34,
   "metadata": {},
   "outputs": [
    {
     "name": "stdout",
     "output_type": "stream",
     "text": [
      "0    26/01/2021\n",
      "1    10/12/2020\n",
      "Name: ad publish date, dtype: object\n",
      "---------------------------\n",
      "0    26-01-2021\n",
      "1    10-12-2020\n",
      "Name: ad publish date, dtype: object\n"
     ]
    }
   ],
   "source": [
    "print(df['ad publish date'].head(2))\n",
    "print('---------------------------')\n",
    "print(ExchangeRate_df['ad publish date'].head(2))"
   ]
  },
  {
   "cell_type": "markdown",
   "metadata": {},
   "source": [
    "#### as you can see there's a different here so we should change the foramt for the secand dataframe"
   ]
  },
  {
   "cell_type": "code",
   "execution_count": 35,
   "metadata": {},
   "outputs": [],
   "source": [
    "df['ad publish date'] = pd.to_datetime(df['ad publish date'], format='%d/%m/%Y')\n",
    "df['ad publish date'] = df['ad publish date'].dt.strftime('%d-%m-%Y')"
   ]
  },
  {
   "cell_type": "markdown",
   "metadata": {},
   "source": [
    "#### Check onemore time about the foramt "
   ]
  },
  {
   "cell_type": "code",
   "execution_count": 36,
   "metadata": {},
   "outputs": [
    {
     "name": "stdout",
     "output_type": "stream",
     "text": [
      "0    26-01-2021\n",
      "1    10-12-2020\n",
      "Name: ad publish date, dtype: object\n",
      "---------------------------\n",
      "0    26-01-2021\n",
      "1    10-12-2020\n",
      "Name: ad publish date, dtype: object\n"
     ]
    }
   ],
   "source": [
    "print(df['ad publish date'].head(2))\n",
    "print('---------------------------')\n",
    "print(ExchangeRate_df['ad publish date'].head(2))"
   ]
  },
  {
   "cell_type": "markdown",
   "metadata": {},
   "source": [
    "#### Now Both date is identical and we can merge them safely "
   ]
  },
  {
   "cell_type": "markdown",
   "metadata": {},
   "source": [
    "### We can now split the car_name column into two column make and model this will help us give more accurate result in the ML prediction step\n",
    "\n",
    "### split the column will make car_name as a Redundant information so from here we can face the third issue Redundant information: Data that contains unnecessary or duplicate information.\n"
   ]
  },
  {
   "cell_type": "code",
   "execution_count": 37,
   "metadata": {},
   "outputs": [],
   "source": [
    "# Assuming df is your DataFrame\n",
    "df[['make', 'model']] = df['car_name'].str.split(' ', n=1, expand=True)\n",
    "\n",
    "# Drop the original 'car_name' column\n",
    "df.drop(columns=['car_name'], inplace=True)"
   ]
  },
  {
   "cell_type": "markdown",
   "metadata": {},
   "source": [
    "## 2.2.1.7 combine two dateset"
   ]
  },
  {
   "cell_type": "code",
   "execution_count": 38,
   "metadata": {},
   "outputs": [],
   "source": [
    "merged_df = pd.merge(df, ExchangeRate_df, on='ad publish date', how='left')"
   ]
  },
  {
   "cell_type": "code",
   "execution_count": 39,
   "metadata": {},
   "outputs": [
    {
     "data": {
      "text/html": [
       "<div>\n",
       "<style scoped>\n",
       "    .dataframe tbody tr th:only-of-type {\n",
       "        vertical-align: middle;\n",
       "    }\n",
       "\n",
       "    .dataframe tbody tr th {\n",
       "        vertical-align: top;\n",
       "    }\n",
       "\n",
       "    .dataframe thead th {\n",
       "        text-align: right;\n",
       "    }\n",
       "</style>\n",
       "<table border=\"1\" class=\"dataframe\">\n",
       "  <thead>\n",
       "    <tr style=\"text-align: right;\">\n",
       "      <th></th>\n",
       "      <th>year</th>\n",
       "      <th>price</th>\n",
       "      <th>color</th>\n",
       "      <th>fuel type</th>\n",
       "      <th>origin</th>\n",
       "      <th>car license</th>\n",
       "      <th>gearbox</th>\n",
       "      <th>engine size</th>\n",
       "      <th>ad publish date</th>\n",
       "      <th>passenger</th>\n",
       "      <th>...</th>\n",
       "      <th>ac</th>\n",
       "      <th>radio_cd</th>\n",
       "      <th>sunroof</th>\n",
       "      <th>leatherـchair</th>\n",
       "      <th>centralـLock</th>\n",
       "      <th>magnesium_wheels</th>\n",
       "      <th>air_bag</th>\n",
       "      <th>make</th>\n",
       "      <th>model</th>\n",
       "      <th>Exchange Rate</th>\n",
       "    </tr>\n",
       "  </thead>\n",
       "  <tbody>\n",
       "    <tr>\n",
       "      <th>0</th>\n",
       "      <td>2010</td>\n",
       "      <td>30000</td>\n",
       "      <td>فيراني</td>\n",
       "      <td>بنزين</td>\n",
       "      <td>تأجير</td>\n",
       "      <td>فلسطينية</td>\n",
       "      <td>نصف اوتوماتيك</td>\n",
       "      <td>1400</td>\n",
       "      <td>26-01-2021</td>\n",
       "      <td>5</td>\n",
       "      <td>...</td>\n",
       "      <td>1</td>\n",
       "      <td>1</td>\n",
       "      <td>0</td>\n",
       "      <td>0</td>\n",
       "      <td>1</td>\n",
       "      <td>0</td>\n",
       "      <td>1</td>\n",
       "      <td>هونداي</td>\n",
       "      <td>اكسنت</td>\n",
       "      <td>3.276</td>\n",
       "    </tr>\n",
       "    <tr>\n",
       "      <th>1</th>\n",
       "      <td>2010</td>\n",
       "      <td>30000</td>\n",
       "      <td>فيراني</td>\n",
       "      <td>بنزين</td>\n",
       "      <td>تأجير</td>\n",
       "      <td>فلسطينية</td>\n",
       "      <td>نصف اوتوماتيك</td>\n",
       "      <td>1400</td>\n",
       "      <td>26-01-2021</td>\n",
       "      <td>5</td>\n",
       "      <td>...</td>\n",
       "      <td>1</td>\n",
       "      <td>1</td>\n",
       "      <td>0</td>\n",
       "      <td>0</td>\n",
       "      <td>1</td>\n",
       "      <td>0</td>\n",
       "      <td>1</td>\n",
       "      <td>هونداي</td>\n",
       "      <td>اكسنت</td>\n",
       "      <td>3.276</td>\n",
       "    </tr>\n",
       "    <tr>\n",
       "      <th>2</th>\n",
       "      <td>2010</td>\n",
       "      <td>30000</td>\n",
       "      <td>فيراني</td>\n",
       "      <td>بنزين</td>\n",
       "      <td>تأجير</td>\n",
       "      <td>فلسطينية</td>\n",
       "      <td>نصف اوتوماتيك</td>\n",
       "      <td>1400</td>\n",
       "      <td>26-01-2021</td>\n",
       "      <td>5</td>\n",
       "      <td>...</td>\n",
       "      <td>1</td>\n",
       "      <td>1</td>\n",
       "      <td>0</td>\n",
       "      <td>0</td>\n",
       "      <td>1</td>\n",
       "      <td>0</td>\n",
       "      <td>1</td>\n",
       "      <td>هونداي</td>\n",
       "      <td>اكسنت</td>\n",
       "      <td>3.276</td>\n",
       "    </tr>\n",
       "    <tr>\n",
       "      <th>3</th>\n",
       "      <td>2010</td>\n",
       "      <td>30000</td>\n",
       "      <td>فيراني</td>\n",
       "      <td>بنزين</td>\n",
       "      <td>تأجير</td>\n",
       "      <td>فلسطينية</td>\n",
       "      <td>نصف اوتوماتيك</td>\n",
       "      <td>1400</td>\n",
       "      <td>26-01-2021</td>\n",
       "      <td>5</td>\n",
       "      <td>...</td>\n",
       "      <td>1</td>\n",
       "      <td>1</td>\n",
       "      <td>0</td>\n",
       "      <td>0</td>\n",
       "      <td>1</td>\n",
       "      <td>0</td>\n",
       "      <td>1</td>\n",
       "      <td>هونداي</td>\n",
       "      <td>اكسنت</td>\n",
       "      <td>3.276</td>\n",
       "    </tr>\n",
       "    <tr>\n",
       "      <th>4</th>\n",
       "      <td>2010</td>\n",
       "      <td>30000</td>\n",
       "      <td>فيراني</td>\n",
       "      <td>بنزين</td>\n",
       "      <td>تأجير</td>\n",
       "      <td>فلسطينية</td>\n",
       "      <td>نصف اوتوماتيك</td>\n",
       "      <td>1400</td>\n",
       "      <td>26-01-2021</td>\n",
       "      <td>5</td>\n",
       "      <td>...</td>\n",
       "      <td>1</td>\n",
       "      <td>1</td>\n",
       "      <td>0</td>\n",
       "      <td>0</td>\n",
       "      <td>1</td>\n",
       "      <td>0</td>\n",
       "      <td>1</td>\n",
       "      <td>هونداي</td>\n",
       "      <td>اكسنت</td>\n",
       "      <td>3.276</td>\n",
       "    </tr>\n",
       "    <tr>\n",
       "      <th>...</th>\n",
       "      <td>...</td>\n",
       "      <td>...</td>\n",
       "      <td>...</td>\n",
       "      <td>...</td>\n",
       "      <td>...</td>\n",
       "      <td>...</td>\n",
       "      <td>...</td>\n",
       "      <td>...</td>\n",
       "      <td>...</td>\n",
       "      <td>...</td>\n",
       "      <td>...</td>\n",
       "      <td>...</td>\n",
       "      <td>...</td>\n",
       "      <td>...</td>\n",
       "      <td>...</td>\n",
       "      <td>...</td>\n",
       "      <td>...</td>\n",
       "      <td>...</td>\n",
       "      <td>...</td>\n",
       "      <td>...</td>\n",
       "      <td>...</td>\n",
       "    </tr>\n",
       "    <tr>\n",
       "      <th>42255</th>\n",
       "      <td>2015</td>\n",
       "      <td>170000</td>\n",
       "      <td>أبيض عاجي</td>\n",
       "      <td>ديزل</td>\n",
       "      <td>خصوصي</td>\n",
       "      <td>فلسطينية</td>\n",
       "      <td>اوتوماتيك</td>\n",
       "      <td>2200</td>\n",
       "      <td>10-02-2021</td>\n",
       "      <td>5</td>\n",
       "      <td>...</td>\n",
       "      <td>1</td>\n",
       "      <td>1</td>\n",
       "      <td>1</td>\n",
       "      <td>1</td>\n",
       "      <td>1</td>\n",
       "      <td>1</td>\n",
       "      <td>1</td>\n",
       "      <td>مرسيدس</td>\n",
       "      <td>E200</td>\n",
       "      <td>3.250</td>\n",
       "    </tr>\n",
       "    <tr>\n",
       "      <th>42256</th>\n",
       "      <td>2015</td>\n",
       "      <td>170000</td>\n",
       "      <td>أبيض عاجي</td>\n",
       "      <td>ديزل</td>\n",
       "      <td>خصوصي</td>\n",
       "      <td>فلسطينية</td>\n",
       "      <td>اوتوماتيك</td>\n",
       "      <td>2200</td>\n",
       "      <td>10-02-2021</td>\n",
       "      <td>5</td>\n",
       "      <td>...</td>\n",
       "      <td>1</td>\n",
       "      <td>1</td>\n",
       "      <td>1</td>\n",
       "      <td>1</td>\n",
       "      <td>1</td>\n",
       "      <td>1</td>\n",
       "      <td>1</td>\n",
       "      <td>مرسيدس</td>\n",
       "      <td>E200</td>\n",
       "      <td>3.250</td>\n",
       "    </tr>\n",
       "    <tr>\n",
       "      <th>42257</th>\n",
       "      <td>2015</td>\n",
       "      <td>170000</td>\n",
       "      <td>أبيض عاجي</td>\n",
       "      <td>ديزل</td>\n",
       "      <td>خصوصي</td>\n",
       "      <td>فلسطينية</td>\n",
       "      <td>اوتوماتيك</td>\n",
       "      <td>2200</td>\n",
       "      <td>10-02-2021</td>\n",
       "      <td>5</td>\n",
       "      <td>...</td>\n",
       "      <td>1</td>\n",
       "      <td>1</td>\n",
       "      <td>1</td>\n",
       "      <td>1</td>\n",
       "      <td>1</td>\n",
       "      <td>1</td>\n",
       "      <td>1</td>\n",
       "      <td>مرسيدس</td>\n",
       "      <td>E200</td>\n",
       "      <td>3.250</td>\n",
       "    </tr>\n",
       "    <tr>\n",
       "      <th>42258</th>\n",
       "      <td>2015</td>\n",
       "      <td>170000</td>\n",
       "      <td>أبيض عاجي</td>\n",
       "      <td>ديزل</td>\n",
       "      <td>خصوصي</td>\n",
       "      <td>فلسطينية</td>\n",
       "      <td>اوتوماتيك</td>\n",
       "      <td>2200</td>\n",
       "      <td>10-02-2021</td>\n",
       "      <td>5</td>\n",
       "      <td>...</td>\n",
       "      <td>1</td>\n",
       "      <td>1</td>\n",
       "      <td>1</td>\n",
       "      <td>1</td>\n",
       "      <td>1</td>\n",
       "      <td>1</td>\n",
       "      <td>1</td>\n",
       "      <td>مرسيدس</td>\n",
       "      <td>E200</td>\n",
       "      <td>3.250</td>\n",
       "    </tr>\n",
       "    <tr>\n",
       "      <th>42259</th>\n",
       "      <td>2015</td>\n",
       "      <td>170000</td>\n",
       "      <td>أبيض عاجي</td>\n",
       "      <td>ديزل</td>\n",
       "      <td>خصوصي</td>\n",
       "      <td>فلسطينية</td>\n",
       "      <td>اوتوماتيك</td>\n",
       "      <td>2200</td>\n",
       "      <td>10-02-2021</td>\n",
       "      <td>5</td>\n",
       "      <td>...</td>\n",
       "      <td>1</td>\n",
       "      <td>1</td>\n",
       "      <td>1</td>\n",
       "      <td>1</td>\n",
       "      <td>1</td>\n",
       "      <td>1</td>\n",
       "      <td>1</td>\n",
       "      <td>مرسيدس</td>\n",
       "      <td>E200</td>\n",
       "      <td>3.250</td>\n",
       "    </tr>\n",
       "  </tbody>\n",
       "</table>\n",
       "<p>42260 rows × 22 columns</p>\n",
       "</div>"
      ],
      "text/plain": [
       "       year   price       color fuel type  origin car license         gearbox  \\\n",
       "0      2010   30000     فيراني     بنزين   تأجير    فلسطينية   نصف اوتوماتيك    \n",
       "1      2010   30000     فيراني     بنزين   تأجير    فلسطينية   نصف اوتوماتيك    \n",
       "2      2010   30000     فيراني     بنزين   تأجير    فلسطينية   نصف اوتوماتيك    \n",
       "3      2010   30000     فيراني     بنزين   تأجير    فلسطينية   نصف اوتوماتيك    \n",
       "4      2010   30000     فيراني     بنزين   تأجير    فلسطينية   نصف اوتوماتيك    \n",
       "...     ...     ...         ...       ...     ...         ...             ...   \n",
       "42255  2015  170000  أبيض عاجي      ديزل   خصوصي    فلسطينية       اوتوماتيك    \n",
       "42256  2015  170000  أبيض عاجي      ديزل   خصوصي    فلسطينية       اوتوماتيك    \n",
       "42257  2015  170000  أبيض عاجي      ديزل   خصوصي    فلسطينية       اوتوماتيك    \n",
       "42258  2015  170000  أبيض عاجي      ديزل   خصوصي    فلسطينية       اوتوماتيك    \n",
       "42259  2015  170000  أبيض عاجي      ديزل   خصوصي    فلسطينية       اوتوماتيك    \n",
       "\n",
       "       engine size ad publish date  passenger  ... ac  radio_cd  sunroof  \\\n",
       "0             1400      26-01-2021          5  ...  1         1        0   \n",
       "1             1400      26-01-2021          5  ...  1         1        0   \n",
       "2             1400      26-01-2021          5  ...  1         1        0   \n",
       "3             1400      26-01-2021          5  ...  1         1        0   \n",
       "4             1400      26-01-2021          5  ...  1         1        0   \n",
       "...            ...             ...        ...  ... ..       ...      ...   \n",
       "42255         2200      10-02-2021          5  ...  1         1        1   \n",
       "42256         2200      10-02-2021          5  ...  1         1        1   \n",
       "42257         2200      10-02-2021          5  ...  1         1        1   \n",
       "42258         2200      10-02-2021          5  ...  1         1        1   \n",
       "42259         2200      10-02-2021          5  ...  1         1        1   \n",
       "\n",
       "       leatherـchair  centralـLock  magnesium_wheels  air_bag    make  model  \\\n",
       "0                  0             1                 0        1  هونداي  اكسنت   \n",
       "1                  0             1                 0        1  هونداي  اكسنت   \n",
       "2                  0             1                 0        1  هونداي  اكسنت   \n",
       "3                  0             1                 0        1  هونداي  اكسنت   \n",
       "4                  0             1                 0        1  هونداي  اكسنت   \n",
       "...              ...           ...               ...      ...     ...    ...   \n",
       "42255              1             1                 1        1  مرسيدس   E200   \n",
       "42256              1             1                 1        1  مرسيدس   E200   \n",
       "42257              1             1                 1        1  مرسيدس   E200   \n",
       "42258              1             1                 1        1  مرسيدس   E200   \n",
       "42259              1             1                 1        1  مرسيدس   E200   \n",
       "\n",
       "      Exchange Rate  \n",
       "0             3.276  \n",
       "1             3.276  \n",
       "2             3.276  \n",
       "3             3.276  \n",
       "4             3.276  \n",
       "...             ...  \n",
       "42255         3.250  \n",
       "42256         3.250  \n",
       "42257         3.250  \n",
       "42258         3.250  \n",
       "42259         3.250  \n",
       "\n",
       "[42260 rows x 22 columns]"
      ]
     },
     "execution_count": 39,
     "metadata": {},
     "output_type": "execute_result"
    }
   ],
   "source": [
    "merged_df"
   ]
  },
  {
   "cell_type": "markdown",
   "metadata": {},
   "source": [
    "### 2.2.1.8: Export the new dateframe that contians the combined data"
   ]
  },
  {
   "cell_type": "code",
   "execution_count": 40,
   "metadata": {},
   "outputs": [],
   "source": [
    "merged_df.to_csv('combined_data.csv', index=False)"
   ]
  },
  {
   "cell_type": "markdown",
   "metadata": {
    "id": "cGy_yddGtzhM"
   },
   "source": [
    "<a id='eda'></a>\n",
    "### <span style=\"color:purple\"> Step 3: Perform EDA (Exploratory Data Analysis) </span>\n",
    "\n",
    "\n",
    "\n",
    "### Research Question 1 --> ( What is the factors are important for us to know in order know what affect the car price?) \n",
    "\n",
    "> **Form this plot we can see that the price was affected by the year where the car was produced and the engine size**"
   ]
  },
  {
   "cell_type": "code",
   "execution_count": 41,
   "metadata": {},
   "outputs": [
    {
     "data": {
      "image/png": "[encoded data removed]",
      "text/plain": [
       "<Figure size 1200x800 with 16 Axes>"
      ]
     },
     "metadata": {},
     "output_type": "display_data"
    }
   ],
   "source": [
    "# Corrolation plot between some numeric columns\n",
    "from pandas.plotting import scatter_matrix\n",
    "\n",
    "attributes = [\"price\",\"year\",\"engine size\",\"passenger\"]\n",
    "scatter_matrix(merged_df[attributes], figsize=(12, 8))\n",
    "plt.show()"
   ]
  },
  {
   "cell_type": "markdown",
   "metadata": {},
   "source": [
    "### Research Question 1 --> ( Is USD exchange vs NIS has an impact on the car price?) \n",
    "\n",
    "> **The correlation between car prices and the USD to NIS exchange rate is very weak (0.053), indicating that changes in the exchange rate have little to no linear impact on car prices.**"
   ]
  },
  {
   "cell_type": "code",
   "execution_count": 42,
   "metadata": {},
   "outputs": [
    {
     "name": "stdout",
     "output_type": "stream",
     "text": [
      "Correlation between car price and USD to NIS exchange rate: 0.05297285191916638\n"
     ]
    }
   ],
   "source": [
    "correlation = merged_df['price'].corr(merged_df['Exchange Rate'])\n",
    "print(f'Correlation between car price and USD to NIS exchange rate: {correlation}')"
   ]
  },
  {
   "cell_type": "code",
   "execution_count": 43,
   "metadata": {},
   "outputs": [
    {
     "data": {
      "image/png": "[encoded data removed]",
      "text/plain": [
       "<Figure size 640x480 with 1 Axes>"
      ]
     },
     "metadata": {},
     "output_type": "display_data"
    }
   ],
   "source": [
    "plt.scatter(merged_df['Exchange Rate'], merged_df['price'])\n",
    "plt.xlabel('USD to NIS Exchange Rate')\n",
    "plt.ylabel('Car Price')\n",
    "plt.title('Car Price vs USD to NIS Exchange Rate')\n",
    "plt.show()"
   ]
  },
  {
   "cell_type": "markdown",
   "metadata": {
    "id": "0ezWXXZVj-TP"
   },
   "source": [
    "### **5.2:** Reflection\n",
    "\n",
    "**Thank you for reaching out!**\n",
    "\n",
    "> There's a lot of cleaning that can be done with this data. For the purpose of this project, I focused on specific tasks, but here are additional steps I could take:\n",
    "    > - Encode categorical data using one-hot encoding.\n",
    "    > - Correct spelling errors in the names.\n",
    "    > - Normalize nicknames (e.g., treating \"Leon\" and \"Seat Leon\" as the same).\n",
    "    > - Standardize color names (e.g., grouping \"ازرق سماوي\", \"ازرق قاتح\", and \"ازرق\" under \"ازرق\")."
   ]
  }
 ],
 "metadata": {
  "colab": {
   "provenance": []
  },
  "kernelspec": {
   "display_name": "Python 3 (ipykernel)",
   "language": "python",
   "name": "python3"
  },
  "language_info": {
   "codemirror_mode": {
    "name": "ipython",
    "version": 3
   },
   "file_extension": ".py",
   "mimetype": "text/x-python",
   "name": "python",
   "nbconvert_exporter": "python",
   "pygments_lexer": "ipython3",
   "version": "3.10.11"
  }
 },
 "nbformat": 4,
 "nbformat_minor": 1
}
